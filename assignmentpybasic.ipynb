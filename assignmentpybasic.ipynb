{
 "cells": [
  {
   "cell_type": "code",
   "execution_count": 2,
   "id": "540167a8-eb27-46af-b5d6-5ed781d71a0b",
   "metadata": {},
   "outputs": [],
   "source": [
    "# 1. Explain the key features of Python that makes it a popular choice for programming .\n",
    "\n",
    "#Python is considered as \n",
    "#-> its easy to understand.\n",
    "#-> its various libraries are useful in many field for different purposes.\n",
    "#-> in data science field phython is mostly used .\n",
    "#-> the community support is very strong.\n",
    "\n",
    " "
   ]
  },
  {
   "cell_type": "code",
   "execution_count": 5,
   "id": "c5448f92-b727-4944-aa0e-7817a23b20e9",
   "metadata": {},
   "outputs": [
    {
     "name": "stdout",
     "output_type": "stream",
     "text": [
      "enter x 5\n"
     ]
    },
    {
     "name": "stdout",
     "output_type": "stream",
     "text": [
      "x is less than 100\n"
     ]
    },
    {
     "data": {
      "text/plain": [
       "True"
      ]
     },
     "execution_count": 5,
     "metadata": {},
     "output_type": "execute_result"
    }
   ],
   "source": [
    "# 2. Describe the role of predefined keywords in Python and provide examples of how they are used in a program.\n",
    "\n",
    "# Predefined keywords in Python are referred to be reserved words . there are 35 keywords in python.\n",
    "# these are predefined so  it makes coding experience better.\n",
    "# they cannot be used as variable name  or any other name used for identification as it then causes abiquity during running of code .\n",
    "x= int(input(\"enter x\"))  # if, elif,else\n",
    "if x > 100:\n",
    "    print(\"x is greater than 100\")\n",
    "elif x == 100:\n",
    "    print(\"x is 100\")\n",
    "else:\n",
    "    print(\"x is less than 100\")\n",
    "    \n"
   ]
  },
  {
   "cell_type": "code",
   "execution_count": 6,
   "id": "c3fcd4dd-5b41-4f43-baae-b4ddce98fa22",
   "metadata": {},
   "outputs": [
    {
     "data": {
      "text/plain": [
       "True"
      ]
     },
     "execution_count": 6,
     "metadata": {},
     "output_type": "execute_result"
    }
   ],
   "source": [
    "a=4  #is ,not\n",
    "b=5 \n",
    "a is not b"
   ]
  },
  {
   "cell_type": "code",
   "execution_count": 7,
   "id": "d4ebad6f-149f-4d12-8ffe-3ee51d581d35",
   "metadata": {},
   "outputs": [
    {
     "data": {
      "text/plain": [
       "True"
      ]
     },
     "execution_count": 7,
     "metadata": {},
     "output_type": "execute_result"
    }
   ],
   "source": [
    "c=\"joyti\" #in\n",
    "\"ti\" in c"
   ]
  },
  {
   "cell_type": "code",
   "execution_count": 8,
   "id": "8bc2fc83-d165-47d5-bbf3-f40eabb9277e",
   "metadata": {},
   "outputs": [
    {
     "data": {
      "text/plain": [
       "bool"
      ]
     },
     "execution_count": 8,
     "metadata": {},
     "output_type": "execute_result"
    }
   ],
   "source": [
    "a = True # true ,false\n",
    "b =False \n",
    "type(a)"
   ]
  },
  {
   "cell_type": "code",
   "execution_count": 10,
   "id": "6433196f-aa56-4515-b724-818b3b559e94",
   "metadata": {},
   "outputs": [
    {
     "name": "stdout",
     "output_type": "stream",
     "text": [
      "no\n"
     ]
    }
   ],
   "source": [
    "a=9   # and\n",
    "b=0\n",
    "if  a>10 and b<10 :\n",
    "    print(\" yess\")\n",
    "\n",
    "else :\n",
    "    print(\"no\")\n",
    "\n",
    "    "
   ]
  },
  {
   "cell_type": "code",
   "execution_count": 11,
   "id": "f638a510-7a19-4088-bc07-1759f4e73806",
   "metadata": {},
   "outputs": [
    {
     "name": "stdout",
     "output_type": "stream",
     "text": [
      " yess\n"
     ]
    }
   ],
   "source": [
    "a=9   # or\n",
    "b=0\n",
    "if  a>10 or b<10 :\n",
    "    print(\" yess\")\n",
    "\n",
    "else :\n",
    "    print(\"no\")"
   ]
  },
  {
   "cell_type": "code",
   "execution_count": 13,
   "id": "6650820b-fc81-4e77-813a-95c75ed622a9",
   "metadata": {},
   "outputs": [
    {
     "data": {
      "text/plain": [
       "[1, 3]"
      ]
     },
     "execution_count": 13,
     "metadata": {},
     "output_type": "execute_result"
    }
   ],
   "source": [
    "list = [1, 2, 3]  # del\n",
    "del list[1]\n",
    "list\n"
   ]
  },
  {
   "cell_type": "code",
   "execution_count": 19,
   "id": "eadf97b2-4e51-485a-bc41-693ef099c549",
   "metadata": {},
   "outputs": [
    {
     "name": "stdout",
     "output_type": "stream",
     "text": [
      "0\n",
      "1\n",
      "2\n",
      "3\n",
      "4\n",
      "5\n",
      "6\n"
     ]
    }
   ],
   "source": [
    "for i in range(10): # break\n",
    "    if i == 7:\n",
    "        break\n",
    "    print(i)\n"
   ]
  },
  {
   "cell_type": "code",
   "execution_count": 20,
   "id": "c35491ac-3dfd-4ed6-8bbf-2977357c8ede",
   "metadata": {},
   "outputs": [
    {
     "name": "stdout",
     "output_type": "stream",
     "text": [
      "0\n",
      "1\n",
      "2\n",
      "3\n",
      "4\n",
      "5\n",
      "6\n",
      "8\n",
      "9\n"
     ]
    }
   ],
   "source": [
    "for i in range(10): # continue\n",
    "    if i == 7:\n",
    "        continue\n",
    "    print(i)"
   ]
  },
  {
   "cell_type": "code",
   "execution_count": 22,
   "id": "1b65d34b-66c4-45b0-8f8d-1eeac2d70813",
   "metadata": {},
   "outputs": [],
   "source": [
    "# 3. Compare and contrast mutable and immutable objects in Python with examples.\n",
    "\n",
    "# mutable objects whose values can be changed after creation whereas immutable are the objects whose values cannot be changed after creation.\n"
   ]
  },
  {
   "cell_type": "code",
   "execution_count": 24,
   "id": "e01c6e49-0748-4dc3-a7c0-d36b797408fc",
   "metadata": {},
   "outputs": [
    {
     "data": {
      "text/plain": [
       "'j'"
      ]
     },
     "execution_count": 24,
     "metadata": {},
     "output_type": "execute_result"
    }
   ],
   "source": [
    "#strings are immutable \n",
    "a =\"joyti\"\n",
    "a[0] # to fetch the value in that position.\n"
   ]
  },
  {
   "cell_type": "code",
   "execution_count": 28,
   "id": "efede570-34ff-46be-be52-93253ac9c5c4",
   "metadata": {},
   "outputs": [],
   "source": [
    "#a[0] =y #this will show error as once string is defined we cannot change its value.\n"
   ]
  },
  {
   "cell_type": "code",
   "execution_count": 26,
   "id": "16acb95c-a991-4f4b-900f-056049326882",
   "metadata": {},
   "outputs": [
    {
     "data": {
      "text/plain": [
       "'joyti'"
      ]
     },
     "execution_count": 26,
     "metadata": {},
     "output_type": "execute_result"
    }
   ],
   "source": [
    "# list are mutable\n",
    "list =[\"joyti\", \"mukherjee\", \"data\", 4554,7]\n",
    "list[0] # it fetches the values in the 1 postion .\n"
   ]
  },
  {
   "cell_type": "code",
   "execution_count": 29,
   "id": "13becbf0-bed3-4305-945a-abb59692a2eb",
   "metadata": {},
   "outputs": [
    {
     "data": {
      "text/plain": [
       "['riya', 'mukherjee', 'data', 4554, 7]"
      ]
     },
     "execution_count": 29,
     "metadata": {},
     "output_type": "execute_result"
    }
   ],
   "source": [
    "list [0] = \"riya\"\n",
    "list # here we could change the list value after creation."
   ]
  },
  {
   "cell_type": "code",
   "execution_count": 31,
   "id": "ee91d5ed-f4d9-4d03-840f-d18e3a7e6868",
   "metadata": {},
   "outputs": [],
   "source": [
    "# 4. Discuss the different types of operators in Python and provide examples of how they are used.\n",
    "\n",
    "# operators are the symbols that are used perform operations on the variables .\n",
    "# the types are mentioned below with an example"
   ]
  },
  {
   "cell_type": "code",
   "execution_count": 35,
   "id": "df429e4c-02ae-4f07-b957-f200dd43fb7f",
   "metadata": {},
   "outputs": [
    {
     "data": {
      "text/plain": [
       "16"
      ]
     },
     "execution_count": 35,
     "metadata": {},
     "output_type": "execute_result"
    }
   ],
   "source": [
    "# a] Arithematic opertor - used to do arithematic operations (+,-,%,/,*,**)\n",
    "a=7\n",
    "b=9\n",
    "a+b"
   ]
  },
  {
   "cell_type": "code",
   "execution_count": 36,
   "id": "ea580bfb-b738-4f74-ad72-4813d96ffa24",
   "metadata": {},
   "outputs": [
    {
     "data": {
      "text/plain": [
       "7"
      ]
     },
     "execution_count": 36,
     "metadata": {},
     "output_type": "execute_result"
    }
   ],
   "source": [
    "a%b"
   ]
  },
  {
   "cell_type": "code",
   "execution_count": 37,
   "id": "21699fff-8e7e-41a9-9d86-1be8a1803dd1",
   "metadata": {},
   "outputs": [
    {
     "data": {
      "text/plain": [
       "False"
      ]
     },
     "execution_count": 37,
     "metadata": {},
     "output_type": "execute_result"
    }
   ],
   "source": [
    "# b] Vomparission operator - used to compare two varibles (==,<=,>=,!=,<,>)\n",
    "a=5 \n",
    "b=9\n",
    "a==b"
   ]
  },
  {
   "cell_type": "code",
   "execution_count": 38,
   "id": "f9692ff2-3cb9-4c45-9074-47ec2b14c316",
   "metadata": {},
   "outputs": [
    {
     "data": {
      "text/plain": [
       "True"
      ]
     },
     "execution_count": 38,
     "metadata": {},
     "output_type": "execute_result"
    }
   ],
   "source": [
    "a<=b"
   ]
  },
  {
   "cell_type": "code",
   "execution_count": 39,
   "id": "860962f5-6aeb-41b6-9f22-37829d13bd0a",
   "metadata": {},
   "outputs": [
    {
     "name": "stdout",
     "output_type": "stream",
     "text": [
      "no\n"
     ]
    }
   ],
   "source": [
    "# c] Logical operator - used to combine conditional statements (and, or,not)\n",
    "a=9   \n",
    "b=0\n",
    "if  a>10 and b<10 :\n",
    "    print(\" yess\")\n",
    "\n",
    "else :\n",
    "    print(\"no\")\n"
   ]
  },
  {
   "cell_type": "code",
   "execution_count": 40,
   "id": "41f7cae2-2988-46a2-ab6a-a80cddb80d27",
   "metadata": {},
   "outputs": [
    {
     "name": "stdout",
     "output_type": "stream",
     "text": [
      " yess\n"
     ]
    }
   ],
   "source": [
    "a=9   \n",
    "b=0\n",
    "if  a>10 or b<10 :\n",
    "    print(\" yess\")\n",
    "\n",
    "else :\n",
    "    print(\"no\")\n"
   ]
  },
  {
   "cell_type": "code",
   "execution_count": 42,
   "id": "b383b111-242b-4076-90a6-e65ee1bb0db4",
   "metadata": {},
   "outputs": [
    {
     "name": "stdout",
     "output_type": "stream",
     "text": [
      "True\n"
     ]
    }
   ],
   "source": [
    "a=0\n",
    "print(not a)"
   ]
  },
  {
   "cell_type": "code",
   "execution_count": 49,
   "id": "523a7697-2f57-40e7-9452-5c8fe45678b9",
   "metadata": {},
   "outputs": [
    {
     "data": {
      "text/plain": [
       "0"
      ]
     },
     "execution_count": 49,
     "metadata": {},
     "output_type": "execute_result"
    }
   ],
   "source": [
    "#d] Bitwise operator - used in bitwise operations on interger ( and ,or, not ,xor, left shift, right shift)\n",
    "13>> 5"
   ]
  },
  {
   "cell_type": "code",
   "execution_count": 47,
   "id": "c5219cc2-c37a-47fc-890b-61fe0a7e83e3",
   "metadata": {},
   "outputs": [
    {
     "data": {
      "text/plain": [
       "8"
      ]
     },
     "execution_count": 47,
     "metadata": {},
     "output_type": "execute_result"
    }
   ],
   "source": [
    "a = 10 \n",
    "b= 8\n",
    "a & b\n"
   ]
  },
  {
   "cell_type": "code",
   "execution_count": 50,
   "id": "3646bdb5-d56c-462d-afe7-be367ac7f919",
   "metadata": {},
   "outputs": [
    {
     "data": {
      "text/plain": [
       "True"
      ]
     },
     "execution_count": 50,
     "metadata": {},
     "output_type": "execute_result"
    }
   ],
   "source": [
    "# e] Membership operator - used to find if a part of sequence is present in the variable created(in,not in)\n",
    "s=\"pwskills\"\n",
    "\"op\"not in s"
   ]
  },
  {
   "cell_type": "code",
   "execution_count": 51,
   "id": "3d303547-837b-4aa5-8b0f-cf36b5cf30a0",
   "metadata": {},
   "outputs": [
    {
     "data": {
      "text/plain": [
       "True"
      ]
     },
     "execution_count": 51,
     "metadata": {},
     "output_type": "execute_result"
    }
   ],
   "source": [
    "\"ll\" in s"
   ]
  },
  {
   "cell_type": "code",
   "execution_count": 56,
   "id": "c94eb93f-5caa-4b85-800f-bddcc0bb6f4e",
   "metadata": {},
   "outputs": [
    {
     "data": {
      "text/plain": [
       "True"
      ]
     },
     "execution_count": 56,
     "metadata": {},
     "output_type": "execute_result"
    }
   ],
   "source": [
    "#f] Identity operator - used to compare the location of the two variables (is ,is not)\n",
    "a= 6\n",
    "b=9\n",
    "a is not b\n"
   ]
  },
  {
   "cell_type": "code",
   "execution_count": 58,
   "id": "61b50c19-3447-4dec-81e9-cda95b827aad",
   "metadata": {},
   "outputs": [
    {
     "data": {
      "text/plain": [
       "False"
      ]
     },
     "execution_count": 58,
     "metadata": {},
     "output_type": "execute_result"
    }
   ],
   "source": [
    "\n",
    "a is  b"
   ]
  },
  {
   "cell_type": "code",
   "execution_count": null,
   "id": "8a0b6893-732d-475f-af8c-8ecb09383df3",
   "metadata": {},
   "outputs": [],
   "source": [
    "# 5.  Explain the concept of type casting in Python with examples.\n",
    " # The concept of type casting is to change the value  of a variable from one data type to another. It can be implicitly and explecitly , implicitly\n",
    " # means the compiler changes the data type by itself and explicitly means that the user needs change the data type. This is very useful as input function \n",
    "#  takes string data type so we need to convert it in needed data type before perfoeming the function.\n",
    "\n"
   ]
  },
  {
   "cell_type": "code",
   "execution_count": 1,
   "id": "9d0793f6-072e-4062-b16c-18fc1367eb3d",
   "metadata": {},
   "outputs": [
    {
     "name": "stdout",
     "output_type": "stream",
     "text": [
      "9.89\n"
     ]
    }
   ],
   "source": [
    "#implicit \n",
    "a=4\n",
    "b=5.89\n",
    "c=a+b\n",
    "print(c) #the copiler converts to float "
   ]
  },
  {
   "cell_type": "code",
   "execution_count": 3,
   "id": "9155cfc5-0309-400b-9ab2-6a466db22229",
   "metadata": {},
   "outputs": [
    {
     "name": "stdout",
     "output_type": "stream",
     "text": [
      "9\n"
     ]
    }
   ],
   "source": [
    "#explicit \n",
    "a=4\n",
    "b=5.89\n",
    "c= int(a+b)\n",
    "print(c) #we need to convert to get answer in int"
   ]
  },
  {
   "cell_type": "code",
   "execution_count": 6,
   "id": "4a27d084-764d-4af7-9ef7-4bf33ff78faf",
   "metadata": {},
   "outputs": [
    {
     "name": "stdout",
     "output_type": "stream",
     "text": [
      "enter the value 3\n"
     ]
    },
    {
     "data": {
      "text/plain": [
       "str"
      ]
     },
     "execution_count": 6,
     "metadata": {},
     "output_type": "execute_result"
    }
   ],
   "source": [
    "a= (input(\"enter the value\")) # input takes string function\n",
    "type (a)\n"
   ]
  },
  {
   "cell_type": "code",
   "execution_count": 7,
   "id": "7f1ec24e-43e9-4e0d-a61b-a4542dee5c1b",
   "metadata": {},
   "outputs": [
    {
     "data": {
      "text/plain": [
       "int"
      ]
     },
     "execution_count": 7,
     "metadata": {},
     "output_type": "execute_result"
    }
   ],
   "source": [
    "a =int(a)  # we typecasted value to int for further usr to avoid error\n",
    "type(a)"
   ]
  },
  {
   "cell_type": "code",
   "execution_count": null,
   "id": "113173d8-784c-4008-9e39-2efc3f379996",
   "metadata": {},
   "outputs": [],
   "source": [
    "# 6. How do conditional statements work in Python? Illustrate with examples?\n",
    " # These statements are used when when we certain block of code to run when a certain condition is satisfied.\n",
    "# it is of four types :- if,else,elif,nested if-else\n"
   ]
  },
  {
   "cell_type": "code",
   "execution_count": 9,
   "id": "6b6bba89-49ef-40d5-a170-9c209c0fd903",
   "metadata": {},
   "outputs": [
    {
     "name": "stdout",
     "output_type": "stream",
     "text": [
      "a is greater than 5\n"
     ]
    }
   ],
   "source": [
    "a= 5 #if, else \n",
    "if(a>=5) :\n",
    "    print(\"a is greater than 5\")\n",
    "else:\n",
    "    print(\"a is less than 5\")"
   ]
  },
  {
   "cell_type": "code",
   "execution_count": 11,
   "id": "22539981-3b0d-4ffe-80b6-d1bac9239f76",
   "metadata": {},
   "outputs": [
    {
     "name": "stdout",
     "output_type": "stream",
     "text": [
      " Enter a  rating value [between 1 to 5 ]   0\n"
     ]
    },
    {
     "name": "stdout",
     "output_type": "stream",
     "text": [
      " rating less than 1 ( rate from 1-5)\n"
     ]
    }
   ],
   "source": [
    "a = int(input(\" Enter a  rating value [between 1 to 5 ]  \")) #elif\n",
    "if (a<1):\n",
    "    print(\" rating less than 1 ( rate from 1-5)\")\n",
    "elif (1<a<5):\n",
    "    print(\"you entered a valid rating\")\n",
    "else:\n",
    "    print(\" rating more than 5 (rate from 1-5)\")\n",
    "    "
   ]
  },
  {
   "cell_type": "code",
   "execution_count": 12,
   "id": "707c243f-cf8d-4627-beb6-74c04e0596ea",
   "metadata": {},
   "outputs": [
    {
     "name": "stdout",
     "output_type": "stream",
     "text": [
      "hurray\n"
     ]
    }
   ],
   "source": [
    "a= 4 #if - else with condition\n",
    "b=5\n",
    "if (a<5 and b>0):\n",
    "    print(\"hurray\")\n",
    "else:\n",
    "    print(\"next time\")"
   ]
  },
  {
   "cell_type": "code",
   "execution_count": 1,
   "id": "15038b74-855b-4f67-884b-60a8a47cec3a",
   "metadata": {},
   "outputs": [
    {
     "name": "stdout",
     "output_type": "stream",
     "text": [
      "shortlisted\n"
     ]
    }
   ],
   "source": [
    "job = \"data_analyst\" #nested if else\n",
    "experience = 3\n",
    "if(job == \"data_analyst\"):\n",
    "    if (experience>=3):\n",
    "        print (\"shortlisted\")\n",
    "    else :\n",
    "        print(\"not shortlisted\")\n",
    "else:\n",
    "    print(\" your job doesn't match our citeria\")"
   ]
  },
  {
   "cell_type": "code",
   "execution_count": null,
   "id": "4b3dd1c4-caaf-4991-89a2-3826861097c3",
   "metadata": {},
   "outputs": [],
   "source": [
    "# 7. Describe the different types of loops in Python and their use cases with examples.\n",
    "# Loops are used in python to perform the tasks which are to repeatedly used in program. basically there are two types of loops in python for\n",
    "#  and while loop.\n"
   ]
  },
  {
   "cell_type": "code",
   "execution_count": 12,
   "id": "a78b4327-0964-47ba-9a4d-fe4f83503db8",
   "metadata": {},
   "outputs": [
    {
     "name": "stdout",
     "output_type": "stream",
     "text": [
      "1\n"
     ]
    }
   ],
   "source": [
    "# -> while loop with break and continue statement\n",
    "i=0\n",
    "while(i<5):\n",
    "   #here we  are using loop it works like 0 less than 5 next increments by 1 checks condition as it fails it prints 1 then again 1 less than 5 \n",
    "    #increments by 1 to 2 as it satifies the condition so loop breaks\n",
    "    i=i+1\n",
    "    if i==2:\n",
    "        break\n",
    "    print(i)\n",
    "else:\n",
    "   print (\"break statement failed\")"
   ]
  },
  {
   "cell_type": "code",
   "execution_count": 13,
   "id": "564da5b9-b727-4254-b292-5a6f8ec9e3dc",
   "metadata": {},
   "outputs": [
    {
     "name": "stdout",
     "output_type": "stream",
     "text": [
      "1\n",
      "3\n",
      "4\n",
      "5\n",
      "break statement failed\n"
     ]
    }
   ],
   "source": [
    "i=0\n",
    "while(i<5):\n",
    "   # here we  are using loop it works like 0 less than 5 next increments by 1 checks condition as it fails it prints 1 then again 1 less \n",
    "    #than 5 increments by 1 to 2 as it satifies the condition so loop skips that itteration and then tillmcondition failed.\n",
    "    i=i+1\n",
    "    if i==2:\n",
    "        continue\n",
    "    print(i)\n",
    "else:\n",
    "   print (\"break statement failed\")"
   ]
  },
  {
   "cell_type": "code",
   "execution_count": 14,
   "id": "fb0b1520-81d5-42f1-ab71-4e5d08156f3f",
   "metadata": {},
   "outputs": [
    {
     "name": "stdout",
     "output_type": "stream",
     "text": [
      "0\n",
      "1\n",
      "2\n"
     ]
    }
   ],
   "source": [
    "# -> for loop with break and continue statement\n",
    "for i in range(5): # here as soon as we get i values as 3 loop breaks )\n",
    "    if i==3:\n",
    "        break\n",
    "    print(i)\n",
    "else:\n",
    "    print(\"executed\")"
   ]
  },
  {
   "cell_type": "code",
   "execution_count": 16,
   "id": "139ba950-3acf-41cf-bfa9-0861fa87a582",
   "metadata": {},
   "outputs": [
    {
     "name": "stdout",
     "output_type": "stream",
     "text": [
      "0\n",
      "1\n",
      "2\n",
      "4\n",
      "executed\n"
     ]
    }
   ],
   "source": [
    "for i in range(5): # here as soon as we get i values as 3 loop skips that itteration and full loop along with else runs )\n",
    "    if i==3:\n",
    "        continue\n",
    "    print(i)\n",
    "else:\n",
    "    print(\"executed\")"
   ]
  },
  {
   "cell_type": "code",
   "execution_count": null,
   "id": "54475253-2b11-4f49-ad40-6518bc5c948f",
   "metadata": {},
   "outputs": [],
   "source": []
  }
 ],
 "metadata": {
  "kernelspec": {
   "display_name": "Python 3 (ipykernel)",
   "language": "python",
   "name": "python3"
  },
  "language_info": {
   "codemirror_mode": {
    "name": "ipython",
    "version": 3
   },
   "file_extension": ".py",
   "mimetype": "text/x-python",
   "name": "python",
   "nbconvert_exporter": "python",
   "pygments_lexer": "ipython3",
   "version": "3.11.7"
  }
 },
 "nbformat": 4,
 "nbformat_minor": 5
}
